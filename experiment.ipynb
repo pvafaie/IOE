{
 "cells": [
  {
   "cell_type": "code",
   "execution_count": 1,
   "metadata": {},
   "outputs": [],
   "source": [
    "from utils import experiment\n",
    "import numpy as np"
   ]
  },
  {
   "cell_type": "code",
   "execution_count": 2,
   "metadata": {},
   "outputs": [],
   "source": [
    "from skmultiflow.data.random_rbf_generator import RandomRBFGenerator\n",
    "stream = RandomRBFGenerator(model_random_state=0, sample_random_state=0, n_classes=5,\n",
    "\n",
    "n_features=10, n_centroids=50)"
   ]
  },
  {
   "cell_type": "code",
   "execution_count": 3,
   "metadata": {},
   "outputs": [],
   "source": [
    "data = stream.next_sample(50000)\n",
    "data = np.hstack((data[0],np.reshape(np.array(data[1]).astype(int),(-1,1))))\n",
    "classes = [0,1,2,3,4]"
   ]
  },
  {
   "cell_type": "code",
   "execution_count": 4,
   "metadata": {},
   "outputs": [
    {
     "name": "stderr",
     "output_type": "stream",
     "text": [
      "/Users/parlos/opt/anaconda3/lib/python3.7/site-packages/skmultiflow/metrics/measure_collection.py:43: FutureWarning: 'ClassificationMeasurements' will be removed in v0.7. Use 'ClassificationPerformanceEvaluator' instead.\n",
      "  format(type(self).__name__), category=FutureWarning)\n"
     ]
    },
    {
     "name": "stdout",
     "output_type": "stream",
     "text": [
      "Finishedt of 50000\n",
      "Final Acc is 0.8825690320210616\n",
      "scikit lear acc score 0.8825690320210616\n",
      "Final Kappa is 0.8473339246217287\n",
      "Final Kappa_M is 0.826268115942029\n",
      "Final Kappa_T is 0.8484233818919417\n",
      "Recall is 0.9538675958188153\n",
      "Precision is 0.9875901875901876\n",
      "class 0 recall : 0.9489828053158658 \n",
      "15877\n",
      "class 1 recall : 0.8902185223725286 \n",
      "7688\n",
      "class 2 recall : 0.8442129252808074 \n",
      "6143\n",
      "class 3 recall : 0.8622412562455389 \n",
      "11208\n",
      "class 4 recall : 0.8021774093777063 \n",
      "8083\n",
      "macro recall is 0.8695665837184894\n",
      "class 0 precision : 0.8527364310374101 \n",
      "class 1 precision : 0.9374058348171483 \n",
      "class 2 precision : 0.9079131652661064 \n",
      "class 3 precision : 0.8799854307047896 \n",
      "class 4 precision : 0.8839809134287662 \n",
      "macro precision is 0.8924043550508441\n",
      "macro_f1 is 0.8797029686290564\n",
      "G_mean 0.86820291296923\n"
     ]
    }
   ],
   "source": [
    "results = experiment(data,classes=classes,window=1,threshold = 0.05,forgetting_factor=0.91,warm_up=1000)\n"
   ]
  },
  {
   "cell_type": "code",
   "execution_count": null,
   "metadata": {},
   "outputs": [],
   "source": []
  }
 ],
 "metadata": {
  "kernelspec": {
   "display_name": "Python 3",
   "language": "python",
   "name": "python3"
  },
  "language_info": {
   "codemirror_mode": {
    "name": "ipython",
    "version": 3
   },
   "file_extension": ".py",
   "mimetype": "text/x-python",
   "name": "python",
   "nbconvert_exporter": "python",
   "pygments_lexer": "ipython3",
   "version": "3.7.6"
  }
 },
 "nbformat": 4,
 "nbformat_minor": 4
}
