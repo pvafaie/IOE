{
 "cells": [
  {
   "cell_type": "code",
   "execution_count": 1,
   "metadata": {},
   "outputs": [],
   "source": [
    "from utils import experiment\n",
    "import numpy as np"
   ]
  },
  {
   "cell_type": "code",
   "execution_count": 2,
   "metadata": {},
   "outputs": [],
   "source": [
    "from skmultiflow.data.random_rbf_generator import RandomRBFGenerator\n",
    "stream = RandomRBFGenerator(model_random_state=0, sample_random_state=0, n_classes=5,\n",
    "\n",
    "n_features=10, n_centroids=50)"
   ]
  },
  {
   "cell_type": "code",
   "execution_count": 3,
   "metadata": {},
   "outputs": [],
   "source": [
    "data = stream.next_sample(50000)\n",
    "data = np.hstack((data[0],np.reshape(np.array(data[1]).astype(int),(-1,1))))\n",
    "classes = [0,1,2,3,4]"
   ]
  },
  {
   "cell_type": "code",
   "execution_count": 4,
   "metadata": {},
   "outputs": [
    {
     "name": "stderr",
     "output_type": "stream",
     "text": [
      "/Users/parlos/opt/anaconda3/lib/python3.7/site-packages/skmultiflow/metrics/measure_collection.py:43: FutureWarning: 'ClassificationMeasurements' will be removed in v0.7. Use 'ClassificationPerformanceEvaluator' instead.\n",
      "  format(type(self).__name__), category=FutureWarning)\n"
     ]
    },
    {
     "name": "stdout",
     "output_type": "stream",
     "text": [
      "Finishedt of 50000\n",
      "Final Acc is 0.8825690320210616\n",
      "scikit lear acc score 0.8825690320210616\n",
      "Final Kappa is 0.8473339246217287\n",
      "Final Kappa_M is 0.826268115942029\n",
      "Final Kappa_T is 0.8484233818919417\n",
      "Recall is 0.9538675958188153\n",
      "Precision is 0.9875901875901876\n",
      "class 0 recall : 0.9489828053158658 \n",
      "15877\n",
      "class 1 recall : 0.8902185223725286 \n",
      "7688\n",
      "class 2 recall : 0.8442129252808074 \n",
      "6143\n",
      "class 3 recall : 0.8622412562455389 \n",
      "11208\n",
      "class 4 recall : 0.8021774093777063 \n",
      "8083\n",
      "macro recall is 0.8695665837184894\n",
      "class 0 precision : 0.8527364310374101 \n",
      "class 1 precision : 0.9374058348171483 \n",
      "class 2 precision : 0.9079131652661064 \n",
      "class 3 precision : 0.8799854307047896 \n",
      "class 4 precision : 0.8839809134287662 \n",
      "macro precision is 0.8924043550508441\n",
      "macro_f1 is 0.8797029686290564\n",
      "G_mean 0.86820291296923\n"
     ]
    }
   ],
   "source": [
    "results = experiment(data,classes=classes,window=1,threshold = 0.05,forgetting_factor=0.91,warm_up=1000)\n"
   ]
  },
  {
   "cell_type": "code",
   "execution_count": 2,
   "metadata": {},
   "outputs": [],
   "source": [
    "import pandas as pd\n",
    "data = pd.read_csv(\"chemical.csv\")\n",
    "data = np.array(data).astype(float)\n",
    "# scaler = preprocessing.StandardScaler().fit(data_semi[:,:-1])\n",
    "# data_semi[:,:-1] = scaler.transform(data_semi[:,:-1])\n",
    "data[np.where(data[ :,-1]==6),-1] = 0\n",
    "classes = [0,1,2,3,4,5]\n",
    "# print(preprocessing.scale(data_semi4[:,:-1]))\n",
    "# data_semi4[:,:-1] = preprocessing.scale(data_semi4[:,:-1])\n",
    "# print(data_semi4)\n",
    "# y = data_semi4[:,-1]\n",
    "# x = preprocessing.normalize(data_semi4[:,:-1],norm='l2')\n",
    "# data_semi4 = np.hstack((x,np.expand_dims(y,axis=1)))\n",
    "# np.random.shuffle(data_semi)"
   ]
  },
  {
   "cell_type": "code",
   "execution_count": 3,
   "metadata": {},
   "outputs": [
    {
     "name": "stderr",
     "output_type": "stream",
     "text": [
      "/Users/parlos/opt/anaconda3/lib/python3.7/site-packages/skmultiflow/metrics/measure_collection.py:43: FutureWarning: 'ClassificationMeasurements' will be removed in v0.7. Use 'ClassificationPerformanceEvaluator' instead.\n",
      "  format(type(self).__name__), category=FutureWarning)\n"
     ]
    },
    {
     "name": "stdout",
     "output_type": "stream",
     "text": [
      "Finishedt of 13616\n",
      "Final Acc is 0.9148632580261593\n",
      "scikit lear acc score 0.9148632580261593\n",
      "Final Kappa is 0.8969896236690869\n",
      "Final Kappa_M is 0.8906870229007633\n",
      "Final Kappa_T is 0.80508166969147\n",
      "Recall is 0.9876601803512103\n",
      "Precision is 0.9995196926032661\n",
      "class 0 recall : 0.9049539170506913 \n",
      "1736\n",
      "class 1 recall : 0.9123191582639193 \n",
      "2281\n",
      "class 2 recall : 0.9241071428571429 \n",
      "2464\n",
      "class 3 recall : 0.956668923493568 \n",
      "1477\n",
      "class 4 recall : 0.8710540395933655 \n",
      "1869\n",
      "class 5 recall : 0.9221664275466284 \n",
      "2788\n",
      "macro recall is 0.9152116014675524\n",
      "class 0 precision : 0.8660418963616318 \n",
      "class 1 precision : 0.943336355394379 \n",
      "class 2 precision : 0.9793548387096774 \n",
      "class 3 precision : 0.8684695759065765 \n",
      "class 4 precision : 0.9094972067039107 \n",
      "class 5 precision : 0.9011566771819137 \n"
     ]
    },
    {
     "ename": "NameError",
     "evalue": "name 'classes1' is not defined",
     "output_type": "error",
     "traceback": [
      "\u001b[0;31m---------------------------------------------------------------------------\u001b[0m",
      "\u001b[0;31mNameError\u001b[0m                                 Traceback (most recent call last)",
      "\u001b[0;32m<ipython-input-3-b3c4dc33fe64>\u001b[0m in \u001b[0;36m<module>\u001b[0;34m\u001b[0m\n\u001b[0;32m----> 1\u001b[0;31m \u001b[0mresults\u001b[0m \u001b[0;34m=\u001b[0m \u001b[0mexperiment\u001b[0m\u001b[0;34m(\u001b[0m\u001b[0mdata\u001b[0m\u001b[0;34m,\u001b[0m\u001b[0mclasses\u001b[0m\u001b[0;34m=\u001b[0m\u001b[0mclasses\u001b[0m\u001b[0;34m,\u001b[0m\u001b[0mwindow\u001b[0m\u001b[0;34m=\u001b[0m\u001b[0;36m1\u001b[0m\u001b[0;34m,\u001b[0m\u001b[0mthreshold\u001b[0m \u001b[0;34m=\u001b[0m \u001b[0;36m0.05\u001b[0m\u001b[0;34m,\u001b[0m\u001b[0mforgetting_factor\u001b[0m\u001b[0;34m=\u001b[0m\u001b[0;36m0.91\u001b[0m\u001b[0;34m,\u001b[0m\u001b[0mwarm_up\u001b[0m\u001b[0;34m=\u001b[0m\u001b[0;36m1000\u001b[0m\u001b[0;34m)\u001b[0m\u001b[0;34m\u001b[0m\u001b[0;34m\u001b[0m\u001b[0m\n\u001b[0m\u001b[1;32m      2\u001b[0m \u001b[0;34m\u001b[0m\u001b[0m\n",
      "\u001b[0;32m~/Downloads/IOE/utils.py\u001b[0m in \u001b[0;36mexperiment\u001b[0;34m(data, classes, threshold, forgetting_factor, m, warm_up, window)\u001b[0m\n\u001b[1;32m    126\u001b[0m         \u001b[0;32melse\u001b[0m\u001b[0;34m:\u001b[0m\u001b[0;34m\u001b[0m\u001b[0;34m\u001b[0m\u001b[0m\n\u001b[1;32m    127\u001b[0m             \u001b[0mprecisions\u001b[0m\u001b[0;34m.\u001b[0m\u001b[0mappend\u001b[0m\u001b[0;34m(\u001b[0m\u001b[0;36m0\u001b[0m\u001b[0;34m)\u001b[0m\u001b[0;34m\u001b[0m\u001b[0;34m\u001b[0m\u001b[0m\n\u001b[0;32m--> 128\u001b[0;31m     \u001b[0mprint\u001b[0m\u001b[0;34m(\u001b[0m\u001b[0;34mf\"macro precision is {macro_precision / len(classes1)}\"\u001b[0m\u001b[0;34m)\u001b[0m\u001b[0;34m\u001b[0m\u001b[0;34m\u001b[0m\u001b[0m\n\u001b[0m\u001b[1;32m    129\u001b[0m     \u001b[0mmacro_f1\u001b[0m \u001b[0;34m=\u001b[0m \u001b[0;36m0\u001b[0m\u001b[0;34m\u001b[0m\u001b[0;34m\u001b[0m\u001b[0m\n\u001b[1;32m    130\u001b[0m     \u001b[0;32mfor\u001b[0m \u001b[0mi\u001b[0m \u001b[0;32min\u001b[0m \u001b[0mrange\u001b[0m\u001b[0;34m(\u001b[0m\u001b[0mlen\u001b[0m\u001b[0;34m(\u001b[0m\u001b[0mrecalls\u001b[0m\u001b[0;34m)\u001b[0m\u001b[0;34m)\u001b[0m\u001b[0;34m:\u001b[0m\u001b[0;34m\u001b[0m\u001b[0;34m\u001b[0m\u001b[0m\n",
      "\u001b[0;31mNameError\u001b[0m: name 'classes1' is not defined"
     ]
    }
   ],
   "source": [
    "results = experiment(data,classes=classes,window=1,threshold = 0.05,forgetting_factor=0.91,warm_up=1000)\n",
    "\n"
   ]
  },
  {
   "cell_type": "code",
   "execution_count": null,
   "metadata": {},
   "outputs": [],
   "source": []
  }
 ],
 "metadata": {
  "kernelspec": {
   "display_name": "Python 3",
   "language": "python",
   "name": "python3"
  },
  "language_info": {
   "codemirror_mode": {
    "name": "ipython",
    "version": 3
   },
   "file_extension": ".py",
   "mimetype": "text/x-python",
   "name": "python",
   "nbconvert_exporter": "python",
   "pygments_lexer": "ipython3",
   "version": "3.7.6"
  }
 },
 "nbformat": 4,
 "nbformat_minor": 4
}
